{
 "cells": [
  {
   "cell_type": "code",
   "execution_count": 60,
   "id": "d3bea6b2-171a-481e-8cd8-620c10288165",
   "metadata": {},
   "outputs": [
    {
     "name": "stdout",
     "output_type": "stream",
     "text": [
      "100\n",
      "5.731440656391118\n"
     ]
    }
   ],
   "source": [
    "v0=[0.301927,0.918442,0.781294,0.110588,0.997035,0.8792,0.283908,0.836897,0.10642,0.999105,0.665685,0.650125,0.0904407,0.897033,0.0289995,0.240828,0.143022,0.776768,0.198204,0.910638,0.656269,0.0361627,0.00542983,0.0516579,0.605925,0.801482,0.238553,0.849409,0.0572319,0.800964,0.927795,0.772108,0.698121,0.83798,0.0401513,0.201782,0.124924,0.504531,0.745188,0.630012,0.851131,0.155213,0.734621,0.193041,0.270759,0.709905,0.980205,0.611544,0.0545003,0.616309,0.0423506,0.884146,0.709578,0.173128,0.091721,0.183533,0.980027,0.458561,0.784081,0.636408,0.572413,0.14513,0.946024,0.301343,0.578017,0.699776,0.649233,0.940594,0.148439,0.508353,0.404034,0.474169,0.119218,0.134095,0.278076,0.304705,0.427903,0.610988,0.634629,0.411811,0.408783,0.217629,0.588306,0.317041,0.0360598,0.4184,0.474133,0.225593,0.572458,0.565772,0.702002,0.647949,0.652433,0.316214,0.787432,0.549144,0.431418,0.626013,0.360657,0.512739];\n",
    "print(len(v0))\n",
    "\n",
    "from numpy.linalg import norm\n",
    "print(norm(v0))\n",
    "print(v0 / norm(v0))"
   ]
  },
  {
   "cell_type": "code",
   "execution_count": 1,
   "id": "4afdd4d5-9e85-4d87-9cb3-9c358fc9fa5c",
   "metadata": {},
   "outputs": [],
   "source": [
    "def _set_diag(laplacian, value, norm_laplacian):\n",
    "    \"\"\"Set the diagonal of the laplacian matrix and convert it to a\n",
    "    sparse format well suited for eigenvalue decomposition.\n",
    "\n",
    "    Parameters\n",
    "    ----------\n",
    "    laplacian : {ndarray, sparse matrix}\n",
    "        The graph laplacian.\n",
    "\n",
    "    value : float\n",
    "        The value of the diagonal.\n",
    "\n",
    "    norm_laplacian : bool\n",
    "        Whether the value of the diagonal should be changed or not.\n",
    "\n",
    "    Returns\n",
    "    -------\n",
    "    laplacian : {array, sparse matrix}\n",
    "        An array of matrix in a form that is well suited to fast\n",
    "        eigenvalue decomposition, depending on the band width of the\n",
    "        matrix.\n",
    "    \"\"\"\n",
    "    n_nodes = laplacian.shape[0]\n",
    "    # We need all entries in the diagonal to values\n",
    "    if not sparse.issparse(laplacian):\n",
    "        if norm_laplacian:\n",
    "            laplacian.flat[:: n_nodes + 1] = value\n",
    "    else:\n",
    "        laplacian = laplacian.tocoo()\n",
    "        if norm_laplacian:\n",
    "            diag_idx = laplacian.row == laplacian.col\n",
    "            laplacian.data[diag_idx] = value\n",
    "        # If the matrix has a small number of diagonals (as in the\n",
    "        # case of structured matrices coming from images), the\n",
    "        # dia format might be best suited for matvec products:\n",
    "        n_diags = np.unique(laplacian.row - laplacian.col).size\n",
    "        if n_diags <= 7:\n",
    "            # 3 or less outer diagonals on each side\n",
    "            laplacian = laplacian.todia()\n",
    "        else:\n",
    "            # csr has the fastest matvec and is thus best suited to\n",
    "            # arpack\n",
    "            laplacian = laplacian.tocsr()\n",
    "    return laplacian"
   ]
  },
  {
   "cell_type": "code",
   "execution_count": 4,
   "id": "574a04d0-12e5-430b-a818-2bc7caaf4889",
   "metadata": {},
   "outputs": [
    {
     "name": "stdout",
     "output_type": "stream",
     "text": [
      "0.008818387985229492\n",
      "(1000, 1000) float32 <class 'scipy.sparse._csr.csr_matrix'>\n",
      "nnz 39639\n",
      "float32\n"
     ]
    },
    {
     "ename": "MemoryError",
     "evalue": "std::bad_alloc: out_of_memory: CUDA error at: /home/coder/.conda/envs/rapids/include/rmm/mr/device/cuda_memory_resource.hpp:60: cudaErrorMemoryAllocation out of memory",
     "output_type": "error",
     "traceback": [
      "\u001b[0;31m---------------------------------------------------------------------------\u001b[0m",
      "\u001b[0;31mMemoryError\u001b[0m                               Traceback (most recent call last)",
      "Cell \u001b[0;32mIn[4], line 89\u001b[0m\n\u001b[1;32m     86\u001b[0m     \u001b[38;5;28mprint\u001b[39m(e)\n\u001b[1;32m     88\u001b[0m start \u001b[38;5;241m=\u001b[39m time\u001b[38;5;241m.\u001b[39mtime()\n\u001b[0;32m---> 89\u001b[0m eigenvalues, eigenvectors, eig_iters \u001b[38;5;241m=\u001b[39m \u001b[43meig_lanczos\u001b[49m\u001b[43m(\u001b[49m\u001b[43m(\u001b[49m\u001b[43mX\u001b[49m\u001b[43m)\u001b[49m\u001b[43m,\u001b[49m\u001b[43m \u001b[49m\u001b[43mn_components\u001b[49m\u001b[43m,\u001b[49m\u001b[43m \u001b[49m\u001b[38;5;241;43m42\u001b[39;49m\u001b[43m,\u001b[49m\u001b[43m \u001b[49m\u001b[43mdtype\u001b[49m\u001b[38;5;241;43m=\u001b[39;49m\u001b[43mnp\u001b[49m\u001b[38;5;241;43m.\u001b[39;49m\u001b[43mfloat32\u001b[49m\u001b[43m,\u001b[49m\u001b[43m \u001b[49m\u001b[43mmaxiter\u001b[49m\u001b[38;5;241;43m=\u001b[39;49m\u001b[38;5;241;43m1000\u001b[39;49m\u001b[43m,\u001b[49m\u001b[43m \u001b[49m\u001b[43mtol\u001b[49m\u001b[38;5;241;43m=\u001b[39;49m\u001b[38;5;241;43m1e-9\u001b[39;49m\u001b[43m,\u001b[49m\u001b[43m \u001b[49m\u001b[43mconv_n_iters\u001b[49m\u001b[38;5;241;43m=\u001b[39;49m\u001b[38;5;241;43m4\u001b[39;49m\u001b[43m,\u001b[49m\u001b[43m \u001b[49m\u001b[43mconv_eps\u001b[49m\u001b[38;5;241;43m=\u001b[39;49m\u001b[38;5;241;43m0.001\u001b[39;49m\u001b[43m,\u001b[49m\u001b[43m \u001b[49m\u001b[43mrestartiter\u001b[49m\u001b[38;5;241;43m=\u001b[39;49m\u001b[38;5;241;43m50\u001b[39;49m\u001b[43m,\u001b[49m\u001b[43m \u001b[49m\u001b[43mhandle\u001b[49m\u001b[38;5;241;43m=\u001b[39;49m\u001b[38;5;28;43;01mNone\u001b[39;49;00m\u001b[43m)\u001b[49m\n\u001b[1;32m     90\u001b[0m times[\u001b[38;5;124m\"\u001b[39m\u001b[38;5;124mRaft Time (s)\u001b[39m\u001b[38;5;124m\"\u001b[39m]\u001b[38;5;241m.\u001b[39mappend(time\u001b[38;5;241m.\u001b[39mtime() \u001b[38;5;241m-\u001b[39m start)\n\u001b[1;32m     91\u001b[0m values[\u001b[38;5;124m\"\u001b[39m\u001b[38;5;124mRaft Time (s)\u001b[39m\u001b[38;5;124m\"\u001b[39m]\u001b[38;5;241m.\u001b[39mappend(eigenvalues)\n",
      "File \u001b[0;32mlanczos.pyx:196\u001b[0m, in \u001b[0;36mcuml.manifold.lanczos.eig_lanczos\u001b[0;34m()\u001b[0m\n",
      "\u001b[0;31mMemoryError\u001b[0m: std::bad_alloc: out_of_memory: CUDA error at: /home/coder/.conda/envs/rapids/include/rmm/mr/device/cuda_memory_resource.hpp:60: cudaErrorMemoryAllocation out of memory"
     ]
    }
   ],
   "source": [
    "%reload_ext autoreload\n",
    "%autoreload 2\n",
    "import os\n",
    "os.environ[\"CUDA_VISIBLE_DEVICES\"] = \"2\"\n",
    "from cuml.manifold.lanczos import eig_lanczos\n",
    "from scipy.sparse.linalg import lobpcg\n",
    "from scipy.sparse import random as sparse_random\n",
    "from scipy.sparse import rand as sparse_rand\n",
    "from scipy.sparse.linalg import eigs, eigsh\n",
    "import numpy as np\n",
    "from scipy.sparse import csr_matrix\n",
    "from sklearn.neighbors import kneighbors_graph\n",
    "from scipy.sparse.csgraph import laplacian as csgraph_laplacian\n",
    "from scipy import sparse\n",
    "import time\n",
    "from sklearn.manifold import SpectralEmbedding\n",
    "from cuml.manifold import SpectralEmbedding as cuSpectralEmbedding\n",
    "from scipy.sparse.linalg import ArpackError\n",
    "from cupyx.scipy.sparse.linalg import eigsh as cueigsh\n",
    "from cupyx.scipy.sparse import csr_matrix as cucsr_matrix\n",
    "\n",
    "np.set_printoptions(precision=4, suppress=True, threshold=50)\n",
    "\n",
    "\n",
    "n_samples = 1000\n",
    "n_features = 1000\n",
    "n_components = 100\n",
    "n_neighbors = 10\n",
    "sparsity = 0.02\n",
    "start = time.time()\n",
    "rng = np.random.default_rng(42)\n",
    "X = sparse_random(n_samples, n_features, density=sparsity, random_state=rng, dtype=np.float32)\n",
    "# print(time.time() - start)\n",
    "# start = time.time()\n",
    "X = X + X.T\n",
    "print(time.time() - start)\n",
    "print(X.shape, X.dtype, type(X))\n",
    "print(\"nnz\", X.nnz)\n",
    "cuX = cucsr_matrix(X)\n",
    "print(cuX.dtype)\n",
    "\n",
    "\n",
    "# X = X.astype(np.float32)\n",
    "# X = X + X.T\n",
    "# X = kneighbors_graph(\n",
    "#     X, n_neighbors, include_self=True, mode=\"distance\",\n",
    "# )\n",
    "# X = X + X.T\n",
    "# matrix1 = X\n",
    "\n",
    "# laplacian, dd = csgraph_laplacian(\n",
    "#     X, normed=False, return_diag=True\n",
    "# )\n",
    "# laplacian = _set_diag(laplacian, 1, False)\n",
    "# # X = laplacian + laplacian.T\n",
    "# X = laplacian\n",
    "\n",
    "# print(X)\n",
    "\n",
    "times = {\"Lobpcg Sklearn Time (s)\": [], \"Eigsh Sklearn Time (s)\": [], \"Raft Time (s)\": [], \"Cupy eigsh Sklearn Time (s)\": []}\n",
    "values = {\"Lobpcg Sklearn Time (s)\": [], \"Eigsh Sklearn Time (s)\": [], \"Raft Time (s)\": [], \"Cupy eigsh Sklearn Time (s)\": []}\n",
    "\n",
    "# import rmm\n",
    "# pool = rmm.mr.PoolMemoryResource(\n",
    "#     rmm.mr.CudaMemoryResource(),\n",
    "#     initial_pool_size=2**32,\n",
    "#     maximum_pool_size=4*2**32,\n",
    "# )\n",
    "# rmm.mr.set_current_device_resource(pool)\n",
    "\n",
    "for i in range(5):\n",
    "    r = np.random.RandomState(42)\n",
    "    X0 = r.standard_normal(size=(n_samples, n_components + 1))\n",
    "    \n",
    "    start = time.time()\n",
    "    eigenvalues, eigenvectors = lobpcg((X), X=X0, tol=1e-9, largest=False, maxiter=10000)\n",
    "    times[\"Lobpcg Sklearn Time (s)\"].append(time.time() - start)\n",
    "    values[\"Lobpcg Sklearn Time (s)\"].append(eigenvalues)\n",
    "    \n",
    "    try:\n",
    "        start = time.time()\n",
    "        eigenvalues, eigenvectors = eigsh((X), k=n_components, which=\"SA\", maxiter=10000, tol=1e-9)\n",
    "        times[\"Eigsh Sklearn Time (s)\"].append(time.time() - start)\n",
    "        values[\"Eigsh Sklearn Time (s)\"].append(eigenvalues)\n",
    "    except ArpackError as e:\n",
    "        print(e)\n",
    "    \n",
    "    start = time.time()\n",
    "    eigenvalues, eigenvectors, eig_iters = eig_lanczos((X), n_components, 42, dtype=np.float32, maxiter=1000, tol=1e-9, conv_n_iters=4, conv_eps=0.001, restartiter=50, handle=None)\n",
    "    times[\"Raft Time (s)\"].append(time.time() - start)\n",
    "    values[\"Raft Time (s)\"].append(eigenvalues)\n",
    "    \n",
    "    \n",
    "    start = time.time()\n",
    "    eigenvalues, eigenvectors = cueigsh(cuX, k=n_components, which=\"SA\", maxiter=10000, tol=1e-9)\n",
    "    times[\"Cupy eigsh Sklearn Time (s)\"].append(time.time() - start)\n",
    "    values[\"Cupy eigsh Sklearn Time (s)\"].append(eigenvalues)\n",
    "# dot1_double, dot2_double, dot3_double = np.dot(eigenvectors[:, 0], eigenvectors[:, 1]), np.dot(eigenvectors[:, 0], eigenvectors[:, 2]), np.dot(eigenvectors[:, 1], eigenvectors[:, 2])\n",
    "# print(dot1_double, dot2_double, dot3_double)\n",
    "\n",
    "\n",
    "for (k1, v1), (k2, v2) in zip(times.items(), values.items()):\n",
    "    print(k1, sum(v1)/len(v1))\n",
    "    print(v2[0])\n",
    "\n",
    "\n",
    "# start = time.time()\n",
    "# s = SpectralEmbedding(n_components=n_components, n_neighbors=n_neighbors, random_state=42, eigen_solver=\"lobpcg\")\n",
    "# s.affinity_matrix_ = matrix1\n",
    "# out = s.fit_transform(matrix1)\n",
    "# print(\"SpectralEmbedding Time (s)\", time.time() - start)\n",
    "\n",
    "# matrix1 = matrix1.tocoo()\n",
    "# start = time.time()\n",
    "# s = cuSpectralEmbedding(n_components=n_components, n_neighbors=n_neighbors, random_state=42, rows=matrix1.row, cols=matrix1.col, vals=matrix1.data, nnz=len(matrix1.row))\n",
    "# out = s.fit_transform(matrix1.toarray())\n",
    "# print(\"Raft SpectralEmbedding Time (s)\", time.time() - start)\n"
   ]
  },
  {
   "cell_type": "code",
   "execution_count": 45,
   "id": "841b95d5-4bbe-4545-bbcc-0fe673e05a61",
   "metadata": {},
   "outputs": [
    {
     "name": "stdout",
     "output_type": "stream",
     "text": [
      "seed 42\n",
      "Raft Time (s) 5.14221978187561\n",
      "[-51.2329 -51.1512 -51.0847] 124\n",
      "[[ 0.0031 -0.0001 -0.0014]\n",
      " [-0.0044 -0.001  -0.0038]\n",
      " [ 0.0034  0.0015  0.0013]\n",
      " ...\n",
      " [ 0.002  -0.0009 -0.0019]\n",
      " [ 0.0034 -0.0021 -0.0018]\n",
      " [ 0.0007  0.0026 -0.0028]]\n",
      "[ 0. -0. -0.]\n"
     ]
    }
   ],
   "source": [
    "start = time.time()\n",
    "eigenvalues, eigenvectors, eig_iters = eig_lanczos(X, 3, 42, dtype=np.float32, maxiter=1000, tol=1e-9, conv_n_iters=4, conv_eps=0.01, restartiter=400, handle=None)\n",
    "print(\"Raft Time (s)\", time.time() - start)\n",
    "print(eigenvalues, eig_iters)\n",
    "print(eigenvectors)\n",
    "dot1_double, dot2_double, dot3_double = np.dot(eigenvectors[:, 0], eigenvectors[:, 1]), np.dot(eigenvectors[:, 0], eigenvectors[:, 2]), np.dot(eigenvectors[:, 1], eigenvectors[:, 2])\n",
    "print(np.array([dot1_double, dot2_double, dot3_double]))"
   ]
  },
  {
   "cell_type": "code",
   "execution_count": 42,
   "id": "176f7207-8a69-48c6-8b87-b949c35abcf4",
   "metadata": {},
   "outputs": [
    {
     "name": "stdout",
     "output_type": "stream",
     "text": [
      "Eigsh Sklearn Time (s) 120.89733219146729\n",
      "[-50.6569 -49.9981 -49.983 ]\n",
      "[[ 0.0011 -0.0043  0.005 ]\n",
      " [-0.0024  0.0084 -0.0036]\n",
      " [-0.0012 -0.0015 -0.0039]\n",
      " ...\n",
      " [ 0.0056 -0.0055  0.0004]\n",
      " [-0.0037  0.0026 -0.0027]\n",
      " [-0.003  -0.0043  0.0014]]\n",
      "[ 0. -0. -0.]\n"
     ]
    }
   ],
   "source": [
    "from scipy.sparse.linalg import eigs, eigsh\n",
    "start = time.time()\n",
    "eigenvalues, eigenvectors = eigsh(X, k=3, which=\"SA\", maxiter=100, tol=0.01)\n",
    "print(\"Eigsh Sklearn Time (s)\", time.time() - start)\n",
    "print(eigenvalues)\n",
    "print(eigenvectors)\n",
    "dot1_double, dot2_double, dot3_double = np.dot(eigenvectors[:, 0], eigenvectors[:, 1]), np.dot(eigenvectors[:, 0], eigenvectors[:, 2]), np.dot(eigenvectors[:, 1], eigenvectors[:, 2])\n",
    "print(np.array([dot1_double, dot2_double, dot3_double]))"
   ]
  },
  {
   "cell_type": "code",
   "execution_count": 44,
   "id": "a7167002-cf57-4364-a751-a7dbc1fb38d7",
   "metadata": {},
   "outputs": [
    {
     "ename": "KeyboardInterrupt",
     "evalue": "",
     "output_type": "error",
     "traceback": [
      "\u001b[0;31m---------------------------------------------------------------------------\u001b[0m",
      "\u001b[0;31mKeyboardInterrupt\u001b[0m                         Traceback (most recent call last)",
      "Cell \u001b[0;32mIn[44], line 5\u001b[0m\n\u001b[1;32m      2\u001b[0m X0 \u001b[38;5;241m=\u001b[39m r\u001b[38;5;241m.\u001b[39mstandard_normal(size\u001b[38;5;241m=\u001b[39m(n_samples, n_components \u001b[38;5;241m+\u001b[39m \u001b[38;5;241m1\u001b[39m))\n\u001b[1;32m      4\u001b[0m start \u001b[38;5;241m=\u001b[39m time\u001b[38;5;241m.\u001b[39mtime()\n\u001b[0;32m----> 5\u001b[0m eigenvalues, eigenvectors \u001b[38;5;241m=\u001b[39m \u001b[43mlobpcg\u001b[49m\u001b[43m(\u001b[49m\u001b[43mX\u001b[49m\u001b[43m,\u001b[49m\u001b[43m \u001b[49m\u001b[43mX\u001b[49m\u001b[38;5;241;43m=\u001b[39;49m\u001b[43mX0\u001b[49m\u001b[43m,\u001b[49m\u001b[43m \u001b[49m\u001b[43mtol\u001b[49m\u001b[38;5;241;43m=\u001b[39;49m\u001b[38;5;241;43m0.1\u001b[39;49m\u001b[43m,\u001b[49m\u001b[43m \u001b[49m\u001b[43mlargest\u001b[49m\u001b[38;5;241;43m=\u001b[39;49m\u001b[38;5;28;43;01mFalse\u001b[39;49;00m\u001b[43m,\u001b[49m\u001b[43m \u001b[49m\u001b[43mmaxiter\u001b[49m\u001b[38;5;241;43m=\u001b[39;49m\u001b[38;5;241;43m100\u001b[39;49m\u001b[43m)\u001b[49m\n\u001b[1;32m      6\u001b[0m \u001b[38;5;28mprint\u001b[39m(\u001b[38;5;124m\"\u001b[39m\u001b[38;5;124mLobpcg Sklearn Time (s)\u001b[39m\u001b[38;5;124m\"\u001b[39m, time\u001b[38;5;241m.\u001b[39mtime() \u001b[38;5;241m-\u001b[39m start)\n\u001b[1;32m      7\u001b[0m \u001b[38;5;28mprint\u001b[39m(eigenvalues)\n",
      "File \u001b[0;32m~/.conda/envs/rapids/lib/python3.10/site-packages/scipy/sparse/linalg/_eigen/lobpcg/lobpcg.py:791\u001b[0m, in \u001b[0;36mlobpcg\u001b[0;34m(A, X, B, M, Y, tol, maxiter, largest, verbosityLevel, retLambdaHistory, retResidualNormsHistory, restartControl)\u001b[0m\n\u001b[1;32m    784\u001b[0m     warnings\u001b[38;5;241m.\u001b[39mwarn(\n\u001b[1;32m    785\u001b[0m         \u001b[38;5;124mf\u001b[39m\u001b[38;5;124m\"\u001b[39m\u001b[38;5;124mFailed at iteration \u001b[39m\u001b[38;5;132;01m{\u001b[39;00miterationNumber\u001b[38;5;132;01m}\u001b[39;00m\u001b[38;5;124m with accuracies \u001b[39m\u001b[38;5;124m\"\u001b[39m\n\u001b[1;32m    786\u001b[0m         \u001b[38;5;124mf\u001b[39m\u001b[38;5;124m\"\u001b[39m\u001b[38;5;132;01m{\u001b[39;00mresidualNorms\u001b[38;5;132;01m}\u001b[39;00m\u001b[38;5;130;01m\\n\u001b[39;00m\u001b[38;5;124m not reaching the requested \u001b[39m\u001b[38;5;124m\"\u001b[39m\n\u001b[1;32m    787\u001b[0m         \u001b[38;5;124mf\u001b[39m\u001b[38;5;124m\"\u001b[39m\u001b[38;5;124mtolerance \u001b[39m\u001b[38;5;132;01m{\u001b[39;00mresidualTolerance\u001b[38;5;132;01m}\u001b[39;00m\u001b[38;5;124m.\u001b[39m\u001b[38;5;124m\"\u001b[39m,\n\u001b[1;32m    788\u001b[0m         \u001b[38;5;167;01mUserWarning\u001b[39;00m, stacklevel\u001b[38;5;241m=\u001b[39m\u001b[38;5;241m2\u001b[39m\n\u001b[1;32m    789\u001b[0m     )\n\u001b[1;32m    790\u001b[0m     \u001b[38;5;28;01mbreak\u001b[39;00m\n\u001b[0;32m--> 791\u001b[0m activeBlockVectorAR \u001b[38;5;241m=\u001b[39m \u001b[43mA\u001b[49m\u001b[43m(\u001b[49m\u001b[43mactiveBlockVectorR\u001b[49m\u001b[43m)\u001b[49m\n\u001b[1;32m    793\u001b[0m \u001b[38;5;28;01mif\u001b[39;00m iterationNumber \u001b[38;5;241m>\u001b[39m \u001b[38;5;241m0\u001b[39m:\n\u001b[1;32m    794\u001b[0m     \u001b[38;5;28;01mif\u001b[39;00m B \u001b[38;5;129;01mis\u001b[39;00m \u001b[38;5;129;01mnot\u001b[39;00m \u001b[38;5;28;01mNone\u001b[39;00m:\n",
      "File \u001b[0;32m~/.conda/envs/rapids/lib/python3.10/site-packages/scipy/sparse/linalg/_eigen/lobpcg/lobpcg.py:66\u001b[0m, in \u001b[0;36m_makeMatMat.<locals>.<lambda>\u001b[0;34m(v)\u001b[0m\n\u001b[1;32m     64\u001b[0m     \u001b[38;5;28;01mreturn\u001b[39;00m \u001b[38;5;28;01mlambda\u001b[39;00m v: m(v)\n\u001b[1;32m     65\u001b[0m \u001b[38;5;28;01melse\u001b[39;00m:\n\u001b[0;32m---> 66\u001b[0m     \u001b[38;5;28;01mreturn\u001b[39;00m \u001b[38;5;28;01mlambda\u001b[39;00m v: \u001b[43mm\u001b[49m\u001b[43m \u001b[49m\u001b[38;5;241;43m@\u001b[39;49m\u001b[43m \u001b[49m\u001b[43mv\u001b[49m\n",
      "File \u001b[0;32m~/.conda/envs/rapids/lib/python3.10/site-packages/scipy/sparse/_base.py:669\u001b[0m, in \u001b[0;36m_spbase.__matmul__\u001b[0;34m(self, other)\u001b[0m\n\u001b[1;32m    666\u001b[0m \u001b[38;5;28;01mif\u001b[39;00m isscalarlike(other):\n\u001b[1;32m    667\u001b[0m     \u001b[38;5;28;01mraise\u001b[39;00m \u001b[38;5;167;01mValueError\u001b[39;00m(\u001b[38;5;124m\"\u001b[39m\u001b[38;5;124mScalar operands are not allowed, \u001b[39m\u001b[38;5;124m\"\u001b[39m\n\u001b[1;32m    668\u001b[0m                      \u001b[38;5;124m\"\u001b[39m\u001b[38;5;124muse \u001b[39m\u001b[38;5;124m'\u001b[39m\u001b[38;5;124m*\u001b[39m\u001b[38;5;124m'\u001b[39m\u001b[38;5;124m instead\u001b[39m\u001b[38;5;124m\"\u001b[39m)\n\u001b[0;32m--> 669\u001b[0m \u001b[38;5;28;01mreturn\u001b[39;00m \u001b[38;5;28;43mself\u001b[39;49m\u001b[38;5;241;43m.\u001b[39;49m\u001b[43m_matmul_dispatch\u001b[49m\u001b[43m(\u001b[49m\u001b[43mother\u001b[49m\u001b[43m)\u001b[49m\n",
      "File \u001b[0;32m~/.conda/envs/rapids/lib/python3.10/site-packages/scipy/sparse/_base.py:571\u001b[0m, in \u001b[0;36m_spbase._matmul_dispatch\u001b[0;34m(self, other)\u001b[0m\n\u001b[1;32m    569\u001b[0m         \u001b[38;5;28;01mreturn\u001b[39;00m result\u001b[38;5;241m.\u001b[39mreshape(M, \u001b[38;5;241m1\u001b[39m)\n\u001b[1;32m    570\u001b[0m     \u001b[38;5;28;01melif\u001b[39;00m other\u001b[38;5;241m.\u001b[39mndim \u001b[38;5;241m==\u001b[39m \u001b[38;5;241m2\u001b[39m \u001b[38;5;129;01mand\u001b[39;00m other\u001b[38;5;241m.\u001b[39mshape[\u001b[38;5;241m0\u001b[39m] \u001b[38;5;241m==\u001b[39m N:\n\u001b[0;32m--> 571\u001b[0m         \u001b[38;5;28;01mreturn\u001b[39;00m \u001b[38;5;28;43mself\u001b[39;49m\u001b[38;5;241;43m.\u001b[39;49m\u001b[43m_matmul_multivector\u001b[49m\u001b[43m(\u001b[49m\u001b[43mother\u001b[49m\u001b[43m)\u001b[49m\n\u001b[1;32m    573\u001b[0m \u001b[38;5;28;01mif\u001b[39;00m isscalarlike(other):\n\u001b[1;32m    574\u001b[0m     \u001b[38;5;66;03m# scalar value\u001b[39;00m\n\u001b[1;32m    575\u001b[0m     \u001b[38;5;28;01mreturn\u001b[39;00m \u001b[38;5;28mself\u001b[39m\u001b[38;5;241m.\u001b[39m_mul_scalar(other)\n",
      "File \u001b[0;32m~/.conda/envs/rapids/lib/python3.10/site-packages/scipy/sparse/_coo.py:585\u001b[0m, in \u001b[0;36m_coo_base._matmul_multivector\u001b[0;34m(self, other)\u001b[0m\n\u001b[1;32m    583\u001b[0m result \u001b[38;5;241m=\u001b[39m np\u001b[38;5;241m.\u001b[39mzeros(result_shape, dtype\u001b[38;5;241m=\u001b[39mresult_dtype)\n\u001b[1;32m    584\u001b[0m \u001b[38;5;28;01mfor\u001b[39;00m i, other_col \u001b[38;5;129;01min\u001b[39;00m \u001b[38;5;28menumerate\u001b[39m(other\u001b[38;5;241m.\u001b[39mT):\n\u001b[0;32m--> 585\u001b[0m     \u001b[43mcoo_matvec\u001b[49m\u001b[43m(\u001b[49m\u001b[38;5;28;43mself\u001b[39;49m\u001b[38;5;241;43m.\u001b[39;49m\u001b[43mnnz\u001b[49m\u001b[43m,\u001b[49m\u001b[43m \u001b[49m\u001b[43mrow\u001b[49m\u001b[43m,\u001b[49m\u001b[43m \u001b[49m\u001b[43mcol\u001b[49m\u001b[43m,\u001b[49m\u001b[43m \u001b[49m\u001b[38;5;28;43mself\u001b[39;49m\u001b[38;5;241;43m.\u001b[39;49m\u001b[43mdata\u001b[49m\u001b[43m,\u001b[49m\u001b[43m \u001b[49m\u001b[43mother_col\u001b[49m\u001b[43m,\u001b[49m\u001b[43m \u001b[49m\u001b[43mresult\u001b[49m\u001b[43m[\u001b[49m\u001b[43mi\u001b[49m\u001b[43m:\u001b[49m\u001b[43mi\u001b[49m\u001b[43m \u001b[49m\u001b[38;5;241;43m+\u001b[39;49m\u001b[43m \u001b[49m\u001b[38;5;241;43m1\u001b[39;49m\u001b[43m]\u001b[49m\u001b[43m)\u001b[49m\n\u001b[1;32m    586\u001b[0m \u001b[38;5;28;01mreturn\u001b[39;00m result\u001b[38;5;241m.\u001b[39mT\u001b[38;5;241m.\u001b[39mview(\u001b[38;5;28mtype\u001b[39m\u001b[38;5;241m=\u001b[39m\u001b[38;5;28mtype\u001b[39m(other))\n",
      "\u001b[0;31mKeyboardInterrupt\u001b[0m: "
     ]
    }
   ],
   "source": [
    "r = np.random.RandomState(42)\n",
    "X0 = r.standard_normal(size=(n_samples, n_components + 1))\n",
    "\n",
    "start = time.time()\n",
    "eigenvalues, eigenvectors = lobpcg(X, X=X0, tol=0.1, largest=False, maxiter=100)\n",
    "print(\"Lobpcg Sklearn Time (s)\", time.time() - start)\n",
    "print(eigenvalues)\n",
    "print(eigenvectors)"
   ]
  },
  {
   "cell_type": "code",
   "execution_count": 37,
   "id": "73440954-3158-4f83-adf0-1946d1419f52",
   "metadata": {},
   "outputs": [],
   "source": [
    "from cupyx.scipy.sparse.linalg import eigsh as cueigsh\n",
    "cuX = cucsr_matrix(X)"
   ]
  },
  {
   "cell_type": "code",
   "execution_count": 39,
   "id": "d93d2ab6-cd50-4b4b-b6d7-220752df8895",
   "metadata": {},
   "outputs": [
    {
     "name": "stdout",
     "output_type": "stream",
     "text": [
      "Eigsh Sklearn Time (s) 1.5047388076782227\n",
      "[-51.0874 -51.0472 -51.017 ]\n",
      "[[-0.0028 -0.0026 -0.0045]\n",
      " [ 0.0028  0.0016  0.0035]\n",
      " [ 0.0029  0.0005 -0.0005]\n",
      " ...\n",
      " [ 0.0043  0.0022  0.0021]\n",
      " [-0.003  -0.0036 -0.003 ]\n",
      " [ 0.003  -0.0088 -0.006 ]]\n",
      "-0.0029701418 -0.0014672056 -0.009164453\n"
     ]
    }
   ],
   "source": [
    "from cupyx.scipy.sparse.linalg import eigsh as cueigsh\n",
    "from cupyx.scipy.sparse import csr_matrix as cucsr_matrix\n",
    "\n",
    "start = time.time()\n",
    "eigenvalues, eigenvectors = cueigsh(cuX, k=3, which=\"SA\", maxiter=100, tol=0.001)\n",
    "print(\"Cupy eigsh Sklearn Time (s)\", time.time() - start)\n",
    "print(eigenvalues)\n",
    "print(eigenvectors)\n",
    "dot1_double, dot2_double, dot3_double = np.dot(eigenvectors[:, 0], eigenvectors[:, 1]), np.dot(eigenvectors[:, 0], eigenvectors[:, 2]), np.dot(eigenvectors[:, 1], eigenvectors[:, 2])\n",
    "print(dot1_double, dot2_double, dot3_double)\n",
    "\n"
   ]
  },
  {
   "cell_type": "code",
   "execution_count": 51,
   "id": "e7899592-f43c-45e3-9f0d-e2ce8345e846",
   "metadata": {},
   "outputs": [
    {
     "name": "stdout",
     "output_type": "stream",
     "text": [
      "<Compressed Sparse Row sparse matrix of dtype 'float64'\n",
      "\twith 299998 stored elements and shape (100000, 100000)>\n",
      "  Coords\tValues\n",
      "  (0, 0)\t-1.161800846694018\n",
      "  (0, 1)\t-0.042400693787638104\n",
      "  (1, 0)\t-0.042400693787638104\n",
      "  (1, 1)\t-0.03908537005609671\n",
      "  (1, 2)\t0.27308032808376276\n",
      "  (2, 1)\t0.27308032808376276\n",
      "  (2, 2)\t-0.7958440161423127\n",
      "  (2, 3)\t1.0022925538478584\n",
      "  (3, 2)\t1.0022925538478584\n",
      "  (3, 3)\t-0.5591235294797839\n",
      "  (3, 4)\t-0.9558101747874178\n",
      "  (4, 3)\t-0.9558101747874178\n",
      "  (4, 4)\t0.5813940005459223\n",
      "  (4, 5)\t-2.2742399709316223\n",
      "  (5, 4)\t-2.2742399709316223\n",
      "  (5, 5)\t0.8027574089743723\n",
      "  (5, 6)\t-1.5570759749000602\n",
      "  (6, 5)\t-1.5570759749000602\n",
      "  (6, 6)\t0.47029335852435933\n",
      "  (6, 7)\t0.669775608341218\n",
      "  (7, 6)\t0.669775608341218\n",
      "  (7, 7)\t-0.8588042441818531\n",
      "  (7, 8)\t-0.46632773895408974\n",
      "  (8, 7)\t-0.46632773895408974\n",
      "  (8, 8)\t-0.2765081313798636\n",
      "  :\t:\n",
      "  (99991, 99991)\t-0.9434375655915473\n",
      "  (99991, 99992)\t0.1497153026997709\n",
      "  (99992, 99991)\t0.1497153026997709\n",
      "  (99992, 99992)\t1.8745158963271022\n",
      "  (99992, 99993)\t0.35844091230999936\n",
      "  (99993, 99992)\t0.35844091230999936\n",
      "  (99993, 99993)\t0.638226701081578\n",
      "  (99993, 99994)\t-0.0826686693320155\n",
      "  (99994, 99993)\t-0.0826686693320155\n",
      "  (99994, 99994)\t-1.1655446900651305\n",
      "  (99994, 99995)\t1.0123433430881796\n",
      "  (99995, 99994)\t1.0123433430881796\n",
      "  (99995, 99995)\t0.5967308812735994\n",
      "  (99995, 99996)\t0.9658626619766949\n",
      "  (99996, 99995)\t0.9658626619766949\n",
      "  (99996, 99996)\t0.6792226955708528\n",
      "  (99996, 99997)\t0.34139465403750296\n",
      "  (99997, 99996)\t0.34139465403750296\n",
      "  (99997, 99997)\t-0.2931236457491532\n",
      "  (99997, 99998)\t0.6406889220247423\n",
      "  (99998, 99997)\t0.6406889220247423\n",
      "  (99998, 99998)\t-0.21903705395665823\n",
      "  (99998, 99999)\t-0.8569603447058843\n",
      "  (99999, 99998)\t-0.8569603447058843\n",
      "  (99999, 99999)\t0.39545683795541\n"
     ]
    },
    {
     "ename": "KeyboardInterrupt",
     "evalue": "",
     "output_type": "error",
     "traceback": [
      "\u001b[0;31m---------------------------------------------------------------------------\u001b[0m",
      "\u001b[0;31mKeyboardInterrupt\u001b[0m                         Traceback (most recent call last)",
      "Cell \u001b[0;32mIn[51], line 36\u001b[0m\n\u001b[1;32m     33\u001b[0m dense_matrix \u001b[38;5;241m=\u001b[39m tridiagonal_matrix\u001b[38;5;241m.\u001b[39mtoarray()\n\u001b[1;32m     35\u001b[0m \u001b[38;5;66;03m# Check if the matrix is symmetric\u001b[39;00m\n\u001b[0;32m---> 36\u001b[0m is_symmetric \u001b[38;5;241m=\u001b[39m \u001b[43mnp\u001b[49m\u001b[38;5;241;43m.\u001b[39;49m\u001b[43mallclose\u001b[49m\u001b[43m(\u001b[49m\u001b[43mdense_matrix\u001b[49m\u001b[43m,\u001b[49m\u001b[43m \u001b[49m\u001b[43mdense_matrix\u001b[49m\u001b[38;5;241;43m.\u001b[39;49m\u001b[43mT\u001b[49m\u001b[43m)\u001b[49m\n\u001b[1;32m     38\u001b[0m \u001b[38;5;28mprint\u001b[39m(\u001b[38;5;124mf\u001b[39m\u001b[38;5;124m\"\u001b[39m\u001b[38;5;124mThe matrix is symmetric: \u001b[39m\u001b[38;5;132;01m{\u001b[39;00mis_symmetric\u001b[38;5;132;01m}\u001b[39;00m\u001b[38;5;124m\"\u001b[39m)\n",
      "File \u001b[0;32m~/.conda/envs/rapids/lib/python3.10/site-packages/numpy/core/numeric.py:2241\u001b[0m, in \u001b[0;36mallclose\u001b[0;34m(a, b, rtol, atol, equal_nan)\u001b[0m\n\u001b[1;32m   2170\u001b[0m \u001b[38;5;129m@array_function_dispatch\u001b[39m(_allclose_dispatcher)\n\u001b[1;32m   2171\u001b[0m \u001b[38;5;28;01mdef\u001b[39;00m \u001b[38;5;21mallclose\u001b[39m(a, b, rtol\u001b[38;5;241m=\u001b[39m\u001b[38;5;241m1.e-5\u001b[39m, atol\u001b[38;5;241m=\u001b[39m\u001b[38;5;241m1.e-8\u001b[39m, equal_nan\u001b[38;5;241m=\u001b[39m\u001b[38;5;28;01mFalse\u001b[39;00m):\n\u001b[1;32m   2172\u001b[0m \u001b[38;5;250m    \u001b[39m\u001b[38;5;124;03m\"\"\"\u001b[39;00m\n\u001b[1;32m   2173\u001b[0m \u001b[38;5;124;03m    Returns True if two arrays are element-wise equal within a tolerance.\u001b[39;00m\n\u001b[1;32m   2174\u001b[0m \n\u001b[0;32m   (...)\u001b[0m\n\u001b[1;32m   2239\u001b[0m \n\u001b[1;32m   2240\u001b[0m \u001b[38;5;124;03m    \"\"\"\u001b[39;00m\n\u001b[0;32m-> 2241\u001b[0m     res \u001b[38;5;241m=\u001b[39m \u001b[38;5;28mall\u001b[39m(\u001b[43misclose\u001b[49m\u001b[43m(\u001b[49m\u001b[43ma\u001b[49m\u001b[43m,\u001b[49m\u001b[43m \u001b[49m\u001b[43mb\u001b[49m\u001b[43m,\u001b[49m\u001b[43m \u001b[49m\u001b[43mrtol\u001b[49m\u001b[38;5;241;43m=\u001b[39;49m\u001b[43mrtol\u001b[49m\u001b[43m,\u001b[49m\u001b[43m \u001b[49m\u001b[43matol\u001b[49m\u001b[38;5;241;43m=\u001b[39;49m\u001b[43matol\u001b[49m\u001b[43m,\u001b[49m\u001b[43m \u001b[49m\u001b[43mequal_nan\u001b[49m\u001b[38;5;241;43m=\u001b[39;49m\u001b[43mequal_nan\u001b[49m\u001b[43m)\u001b[49m)\n\u001b[1;32m   2242\u001b[0m     \u001b[38;5;28;01mreturn\u001b[39;00m \u001b[38;5;28mbool\u001b[39m(res)\n",
      "File \u001b[0;32m~/.conda/envs/rapids/lib/python3.10/site-packages/numpy/core/numeric.py:2351\u001b[0m, in \u001b[0;36misclose\u001b[0;34m(a, b, rtol, atol, equal_nan)\u001b[0m\n\u001b[1;32m   2349\u001b[0m yfin \u001b[38;5;241m=\u001b[39m isfinite(y)\n\u001b[1;32m   2350\u001b[0m \u001b[38;5;28;01mif\u001b[39;00m \u001b[38;5;28mall\u001b[39m(xfin) \u001b[38;5;129;01mand\u001b[39;00m \u001b[38;5;28mall\u001b[39m(yfin):\n\u001b[0;32m-> 2351\u001b[0m     \u001b[38;5;28;01mreturn\u001b[39;00m \u001b[43mwithin_tol\u001b[49m\u001b[43m(\u001b[49m\u001b[43mx\u001b[49m\u001b[43m,\u001b[49m\u001b[43m \u001b[49m\u001b[43my\u001b[49m\u001b[43m,\u001b[49m\u001b[43m \u001b[49m\u001b[43matol\u001b[49m\u001b[43m,\u001b[49m\u001b[43m \u001b[49m\u001b[43mrtol\u001b[49m\u001b[43m)\u001b[49m\n\u001b[1;32m   2352\u001b[0m \u001b[38;5;28;01melse\u001b[39;00m:\n\u001b[1;32m   2353\u001b[0m     finite \u001b[38;5;241m=\u001b[39m xfin \u001b[38;5;241m&\u001b[39m yfin\n",
      "File \u001b[0;32m~/.conda/envs/rapids/lib/python3.10/site-packages/numpy/core/numeric.py:2332\u001b[0m, in \u001b[0;36misclose.<locals>.within_tol\u001b[0;34m(x, y, atol, rtol)\u001b[0m\n\u001b[1;32m   2330\u001b[0m \u001b[38;5;28;01mdef\u001b[39;00m \u001b[38;5;21mwithin_tol\u001b[39m(x, y, atol, rtol):\n\u001b[1;32m   2331\u001b[0m     \u001b[38;5;28;01mwith\u001b[39;00m errstate(invalid\u001b[38;5;241m=\u001b[39m\u001b[38;5;124m'\u001b[39m\u001b[38;5;124mignore\u001b[39m\u001b[38;5;124m'\u001b[39m), _no_nep50_warning():\n\u001b[0;32m-> 2332\u001b[0m         \u001b[38;5;28;01mreturn\u001b[39;00m less_equal(\u001b[38;5;28;43mabs\u001b[39;49m\u001b[43m(\u001b[49m\u001b[43mx\u001b[49m\u001b[38;5;241;43m-\u001b[39;49m\u001b[43my\u001b[49m\u001b[43m)\u001b[49m, atol \u001b[38;5;241m+\u001b[39m rtol \u001b[38;5;241m*\u001b[39m \u001b[38;5;28mabs\u001b[39m(y))\n",
      "\u001b[0;31mKeyboardInterrupt\u001b[0m: "
     ]
    }
   ],
   "source": [
    "import numpy as np\n",
    "from scipy.sparse import diags\n",
    "\n",
    "def generate_tridiagonal_matrix(n, mean=0, std=1):\n",
    "    \"\"\"\n",
    "    Generate a large sparse tridiagonal matrix with normally distributed diagonal entries.\n",
    "    \n",
    "    Parameters:\n",
    "    n (int): Size of the matrix (n x n).\n",
    "    mean (float): Mean of the normal distribution for diagonal entries.\n",
    "    std (float): Standard deviation of the normal distribution for diagonal entries.\n",
    "    \n",
    "    Returns:\n",
    "    scipy.sparse.csr_matrix: Sparse tridiagonal matrix in CSR format.\n",
    "    \"\"\"\n",
    "    # Generate the diagonal entries\n",
    "    main_diag = np.random.normal(loc=mean, scale=std, size=n)\n",
    "    \n",
    "    # Generate the sub-diagonal and super-diagonal entries\n",
    "    off_diag = np.random.normal(loc=mean, scale=std, size=n-1)\n",
    "    \n",
    "    # Create the sparse tridiagonal matrix\n",
    "    diagonals = [off_diag, main_diag, off_diag]\n",
    "    offsets = [-1, 0, 1]\n",
    "    sparse_matrix = diags(diagonals, offsets, shape=(n, n), format='csr')\n",
    "    \n",
    "    return sparse_matrix\n",
    "\n",
    "n = 100\n",
    "tridiagonal_matrix = generate_tridiagonal_matrix(n)\n",
    "print(tridiagonal_matrix)\n",
    "# Convert to dense format for verification (only for small matrices)\n",
    "dense_matrix = tridiagonal_matrix.toarray()\n",
    "\n",
    "# Check if the matrix is symmetric\n",
    "is_symmetric = np.allclose(dense_matrix, dense_matrix.T)\n",
    "\n",
    "print(f\"The matrix is symmetric: {is_symmetric}\")"
   ]
  },
  {
   "cell_type": "code",
   "execution_count": 54,
   "id": "c6cd8695-a840-4515-82b1-9a5ddc49ec75",
   "metadata": {},
   "outputs": [
    {
     "name": "stdout",
     "output_type": "stream",
     "text": [
      "Eigsh Sklearn Time (s) 0.271151065826416\n",
      "[-5.5744 -5.3756 -5.3042]\n",
      "[[-0.  0. -0.]\n",
      " [-0.  0. -0.]\n",
      " [-0.  0. -0.]\n",
      " ...\n",
      " [ 0. -0.  0.]\n",
      " [-0.  0. -0.]\n",
      " [-0.  0. -0.]]\n",
      "[-0. -0. -0.]\n"
     ]
    }
   ],
   "source": [
    "from scipy.sparse.linalg import eigs, eigsh\n",
    "start = time.time()\n",
    "eigenvalues, eigenvectors = eigsh(tridiagonal_matrix, k=3, which=\"SA\", maxiter=100, tol=0.001)\n",
    "print(\"Eigsh Sklearn Time (s)\", time.time() - start)\n",
    "print(eigenvalues)\n",
    "print(eigenvectors)\n",
    "dot1_double, dot2_double, dot3_double = np.dot(eigenvectors[:, 0], eigenvectors[:, 1]), np.dot(eigenvectors[:, 0], eigenvectors[:, 2]), np.dot(eigenvectors[:, 1], eigenvectors[:, 2])\n",
    "print(np.array([dot1_double, dot2_double, dot3_double]))"
   ]
  },
  {
   "cell_type": "code",
   "execution_count": 62,
   "id": "6ca7e9d5-18ca-493d-9027-619997f397c2",
   "metadata": {},
   "outputs": [
    {
     "name": "stdout",
     "output_type": "stream",
     "text": [
      "seed 42\n",
      "Raft Time (s) 0.8112988471984863\n",
      "[-5.5744 -5.3756 -5.304 ] 75\n",
      "[[ 0. -0.  0.]\n",
      " [ 0. -0.  0.]\n",
      " [-0. -0. -0.]\n",
      " ...\n",
      " [-0.  0. -0.]\n",
      " [-0.  0. -0.]\n",
      " [-0.  0. -0.]]\n",
      "[ 0. -0. -0.]\n",
      "100000 (100000,)\n",
      "-4.595364e-10 (100000,)\n"
     ]
    }
   ],
   "source": [
    "start = time.time()\n",
    "eigenvalues, eigenvectors, eig_iters = eig_lanczos(tridiagonal_matrix, 3, 42, dtype=np.float32, maxiter=1000, tol=1e-9, conv_n_iters=4, conv_eps=0.001, restartiter=400, handle=None)\n",
    "print(\"Raft Time (s)\", time.time() - start)\n",
    "print(eigenvalues, eig_iters)\n",
    "print(eigenvectors)\n",
    "dot1_double, dot2_double, dot3_double = np.dot(eigenvectors[:, 0], eigenvectors[:, 1]), np.dot(eigenvectors[:, 0], eigenvectors[:, 2]), np.dot(eigenvectors[:, 1], eigenvectors[:, 2])\n",
    "print(np.array([dot1_double, dot2_double, dot3_double]))\n",
    "print(np.count_nonzero(eigenvectors[:, 1]), eigenvectors[:, 1].shape)\n",
    "print(eigenvectors[:, 1][0], eigenvectors[:, 1].shape)"
   ]
  }
 ],
 "metadata": {
  "kernelspec": {
   "display_name": "Python 3 (ipykernel)",
   "language": "python",
   "name": "python3"
  },
  "language_info": {
   "codemirror_mode": {
    "name": "ipython",
    "version": 3
   },
   "file_extension": ".py",
   "mimetype": "text/x-python",
   "name": "python",
   "nbconvert_exporter": "python",
   "pygments_lexer": "ipython3",
   "version": "3.10.14"
  }
 },
 "nbformat": 4,
 "nbformat_minor": 5
}
